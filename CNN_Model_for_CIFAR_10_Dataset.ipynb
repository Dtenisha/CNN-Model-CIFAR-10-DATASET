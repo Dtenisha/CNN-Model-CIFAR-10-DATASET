{
  "nbformat": 4,
  "nbformat_minor": 0,
  "metadata": {
    "colab": {
      "name": "CNN - Model for CIFAR-10 Dataset",
      "provenance": [],
      "collapsed_sections": [],
      "mount_file_id": "1gr0EObfweyDkcF5k1jO_QK4O2UU9CiKY",
      "authorship_tag": "ABX9TyPyFlMcNM6OllZOj+ojTOh5",
      "include_colab_link": true
    },
    "kernelspec": {
      "name": "python3",
      "display_name": "Python 3"
    },
    "language_info": {
      "name": "python"
    }
  },
  "cells": [
    {
      "cell_type": "markdown",
      "metadata": {
        "id": "view-in-github",
        "colab_type": "text"
      },
      "source": [
        "<a href=\"https://colab.research.google.com/github/Dtenisha/CNN-Model-CIFAR-10-DATASET/blob/main/CNN_Model_for_CIFAR_10_Dataset.ipynb\" target=\"_parent\"><img src=\"https://colab.research.google.com/assets/colab-badge.svg\" alt=\"Open In Colab\"/></a>"
      ]
    },
    {
      "cell_type": "code",
      "execution_count": null,
      "metadata": {
        "id": "GqiPKvGm9L1s"
      },
      "outputs": [],
      "source": [
        "import tensorflow as tf\n",
        "from tensorflow.keras import datasets, layers, models\n",
        "import matplotlib.pyplot as plt\n",
        "import numpy as np"
      ]
    },
    {
      "cell_type": "code",
      "source": [
        "(x_train,y_train), (x_test,y_test) = datasets.cifar10.load_data()"
      ],
      "metadata": {
        "id": "PhLa14ay9aa_"
      },
      "execution_count": null,
      "outputs": []
    },
    {
      "cell_type": "code",
      "source": [
        "print(x_train.shape)\n",
        "print(x_test.shape)\n",
        "print(y_train.shape)\n",
        "print(y_test.shape)"
      ],
      "metadata": {
        "colab": {
          "base_uri": "https://localhost:8080/"
        },
        "id": "eco2QkYz-Aol",
        "outputId": "707c9c8a-1b31-485b-b970-1a986dda69d6"
      },
      "execution_count": null,
      "outputs": [
        {
          "output_type": "stream",
          "name": "stdout",
          "text": [
            "(50000, 32, 32, 3)\n",
            "(10000, 32, 32, 3)\n",
            "(50000, 1)\n",
            "(10000, 1)\n"
          ]
        }
      ]
    },
    {
      "cell_type": "code",
      "source": [
        "y_train = y_train.reshape(-1,)\n",
        "y_train[:5]"
      ],
      "metadata": {
        "colab": {
          "base_uri": "https://localhost:8080/"
        },
        "id": "Ij2z0GG6CyfD",
        "outputId": "591408e8-f16a-4027-c5bf-442d18b5817e"
      },
      "execution_count": null,
      "outputs": [
        {
          "output_type": "execute_result",
          "data": {
            "text/plain": [
              "array([6, 9, 9, 4, 1], dtype=uint8)"
            ]
          },
          "metadata": {},
          "execution_count": 4
        }
      ]
    },
    {
      "cell_type": "code",
      "source": [
        "y_train[5:]"
      ],
      "metadata": {
        "colab": {
          "base_uri": "https://localhost:8080/"
        },
        "id": "meMA8hK0Ch7m",
        "outputId": "e2d2b01c-ce69-4cd2-cb4a-a1a7d80ad009"
      },
      "execution_count": null,
      "outputs": [
        {
          "output_type": "execute_result",
          "data": {
            "text/plain": [
              "array([1, 2, 7, ..., 9, 1, 1], dtype=uint8)"
            ]
          },
          "metadata": {},
          "execution_count": 5
        }
      ]
    },
    {
      "cell_type": "code",
      "source": [
        "classes = ['airplane','automobile','bird','cat','deer','dog','frog','horse','ship','truck']"
      ],
      "metadata": {
        "id": "0lsppEMeB3W_"
      },
      "execution_count": null,
      "outputs": []
    },
    {
      "cell_type": "code",
      "source": [
        "classes[7]"
      ],
      "metadata": {
        "colab": {
          "base_uri": "https://localhost:8080/",
          "height": 36
        },
        "id": "T-n7O726C_gE",
        "outputId": "8c4d9437-b8a6-429d-e33d-da5f35eed45f"
      },
      "execution_count": null,
      "outputs": [
        {
          "output_type": "execute_result",
          "data": {
            "application/vnd.google.colaboratory.intrinsic+json": {
              "type": "string"
            },
            "text/plain": [
              "'horse'"
            ]
          },
          "metadata": {},
          "execution_count": 7
        }
      ]
    },
    {
      "cell_type": "code",
      "source": [
        "def plot_sample(x,y, index):\n",
        "  plt.figure(figsize = (15,2))\n",
        "  plt.imshow(x[index])\n",
        "  plt.xlabel(classes[y[index]])\n"
      ],
      "metadata": {
        "id": "--cExLIT-PeG"
      },
      "execution_count": null,
      "outputs": []
    },
    {
      "cell_type": "code",
      "source": [
        "import cv2\n",
        "import matplotlib.pyplot as plt\n",
        "\n",
        "im = cv2.imread('dog_img.jfif')\n",
        "im_resized = cv2.resize(im, (32, 32,))\n",
        "\n",
        "plt.imshow(im_resized)\n",
        "plt.figure(figsize = (15,2))\n",
        "plt.show()"
      ],
      "metadata": {
        "colab": {
          "base_uri": "https://localhost:8080/",
          "height": 284
        },
        "id": "kM_PgDJ0bC6X",
        "outputId": "302249d0-ac60-42fc-f9ea-acf54283251b"
      },
      "execution_count": null,
      "outputs": [
        {
          "output_type": "display_data",
          "data": {
            "image/png": "[encoded data removed]",
            "text/plain": [
              "<Figure size 432x288 with 1 Axes>"
            ]
          },
          "metadata": {
            "needs_background": "light"
          }
        },
        {
          "output_type": "display_data",
          "data": {
            "text/plain": [
              "<Figure size 1080x144 with 0 Axes>"
            ]
          },
          "metadata": {}
        }
      ]
    },
    {
      "cell_type": "code",
      "source": [
        "imr = im_resized/255"
      ],
      "metadata": {
        "id": "-TYoki_ymsK-"
      },
      "execution_count": null,
      "outputs": []
    },
    {
      "cell_type": "code",
      "source": [
        "pixels = np.expand_dims(imr, axis=0)"
      ],
      "metadata": {
        "id": "0IWRtOJfm4qd"
      },
      "execution_count": null,
      "outputs": []
    },
    {
      "cell_type": "code",
      "source": [
        "pixels"
      ],
      "metadata": {
        "colab": {
          "base_uri": "https://localhost:8080/"
        },
        "id": "jcOrmarQtx2X",
        "outputId": "3bf04d36-1380-4bd3-975b-55f6af69c1cf"
      },
      "execution_count": null,
      "outputs": [
        {
          "output_type": "execute_result",
          "data": {
            "text/plain": [
              "array([[[[0.02745098, 0.00392157, 0.02352941],\n",
              "         [0.02352941, 0.00392157, 0.00392157],\n",
              "         [0.01960784, 0.        , 0.00392157],\n",
              "         ...,\n",
              "         [0.07843137, 0.02745098, 0.03137255],\n",
              "         [0.40784314, 0.38823529, 0.41176471],\n",
              "         [0.0745098 , 0.03529412, 0.04705882]],\n",
              "\n",
              "        [[0.07843137, 0.02352941, 0.00784314],\n",
              "         [0.16078431, 0.11372549, 0.0745098 ],\n",
              "         [0.05490196, 0.01176471, 0.01960784],\n",
              "         ...,\n",
              "         [0.09803922, 0.0745098 , 0.08627451],\n",
              "         [0.09019608, 0.04705882, 0.05098039],\n",
              "         [0.05882353, 0.00784314, 0.        ]],\n",
              "\n",
              "        [[0.03529412, 0.00392157, 0.00784314],\n",
              "         [0.03137255, 0.00784314, 0.        ],\n",
              "         [0.00784314, 0.00392157, 0.00392157],\n",
              "         ...,\n",
              "         [0.14117647, 0.14509804, 0.16078431],\n",
              "         [0.09803922, 0.07843137, 0.12156863],\n",
              "         [0.04705882, 0.01960784, 0.03529412]],\n",
              "\n",
              "        ...,\n",
              "\n",
              "        [[0.37254902, 0.3254902 , 0.25490196],\n",
              "         [0.39607843, 0.34509804, 0.27843137],\n",
              "         [0.40784314, 0.36078431, 0.29019608],\n",
              "         ...,\n",
              "         [0.16470588, 0.10980392, 0.08627451],\n",
              "         [0.16470588, 0.10980392, 0.08235294],\n",
              "         [0.14509804, 0.09019608, 0.06666667]],\n",
              "\n",
              "        [[0.36078431, 0.31372549, 0.24313725],\n",
              "         [0.38823529, 0.34117647, 0.27058824],\n",
              "         [0.41960784, 0.36862745, 0.30196078],\n",
              "         ...,\n",
              "         [0.14901961, 0.09411765, 0.07058824],\n",
              "         [0.14117647, 0.08627451, 0.0627451 ],\n",
              "         [0.1254902 , 0.07058824, 0.04705882]],\n",
              "\n",
              "        [[0.37647059, 0.3254902 , 0.25490196],\n",
              "         [0.39607843, 0.35294118, 0.28235294],\n",
              "         [0.40784314, 0.35686275, 0.28627451],\n",
              "         ...,\n",
              "         [0.16862745, 0.11372549, 0.09019608],\n",
              "         [0.15294118, 0.09803922, 0.07058824],\n",
              "         [0.1254902 , 0.07058824, 0.04705882]]]])"
            ]
          },
          "metadata": {},
          "execution_count": 66
        }
      ]
    },
    {
      "cell_type": "code",
      "source": [
        "pixels.shape"
      ],
      "metadata": {
        "colab": {
          "base_uri": "https://localhost:8080/"
        },
        "id": "BGXYYiNQnBpd",
        "outputId": "6409c376-e40f-4757-96b4-2e026f8e2930"
      },
      "execution_count": null,
      "outputs": [
        {
          "output_type": "execute_result",
          "data": {
            "text/plain": [
              "(1, 32, 32, 3)"
            ]
          },
          "metadata": {},
          "execution_count": 57
        }
      ]
    },
    {
      "cell_type": "code",
      "source": [
        "pixels"
      ],
      "metadata": {
        "colab": {
          "base_uri": "https://localhost:8080/"
        },
        "id": "ZOh2fqC2pEZP",
        "outputId": "b59bf9a9-c732-41ec-ae87-6ff95afb81ef"
      },
      "execution_count": null,
      "outputs": [
        {
          "output_type": "execute_result",
          "data": {
            "text/plain": [
              "array([[[[0.02745098, 0.00392157, 0.02352941],\n",
              "         [0.02352941, 0.00392157, 0.00392157],\n",
              "         [0.01960784, 0.        , 0.00392157],\n",
              "         ...,\n",
              "         [0.07843137, 0.02745098, 0.03137255],\n",
              "         [0.40784314, 0.38823529, 0.41176471],\n",
              "         [0.0745098 , 0.03529412, 0.04705882]],\n",
              "\n",
              "        [[0.07843137, 0.02352941, 0.00784314],\n",
              "         [0.16078431, 0.11372549, 0.0745098 ],\n",
              "         [0.05490196, 0.01176471, 0.01960784],\n",
              "         ...,\n",
              "         [0.09803922, 0.0745098 , 0.08627451],\n",
              "         [0.09019608, 0.04705882, 0.05098039],\n",
              "         [0.05882353, 0.00784314, 0.        ]],\n",
              "\n",
              "        [[0.03529412, 0.00392157, 0.00784314],\n",
              "         [0.03137255, 0.00784314, 0.        ],\n",
              "         [0.00784314, 0.00392157, 0.00392157],\n",
              "         ...,\n",
              "         [0.14117647, 0.14509804, 0.16078431],\n",
              "         [0.09803922, 0.07843137, 0.12156863],\n",
              "         [0.04705882, 0.01960784, 0.03529412]],\n",
              "\n",
              "        ...,\n",
              "\n",
              "        [[0.37254902, 0.3254902 , 0.25490196],\n",
              "         [0.39607843, 0.34509804, 0.27843137],\n",
              "         [0.40784314, 0.36078431, 0.29019608],\n",
              "         ...,\n",
              "         [0.16470588, 0.10980392, 0.08627451],\n",
              "         [0.16470588, 0.10980392, 0.08235294],\n",
              "         [0.14509804, 0.09019608, 0.06666667]],\n",
              "\n",
              "        [[0.36078431, 0.31372549, 0.24313725],\n",
              "         [0.38823529, 0.34117647, 0.27058824],\n",
              "         [0.41960784, 0.36862745, 0.30196078],\n",
              "         ...,\n",
              "         [0.14901961, 0.09411765, 0.07058824],\n",
              "         [0.14117647, 0.08627451, 0.0627451 ],\n",
              "         [0.1254902 , 0.07058824, 0.04705882]],\n",
              "\n",
              "        [[0.37647059, 0.3254902 , 0.25490196],\n",
              "         [0.39607843, 0.35294118, 0.28235294],\n",
              "         [0.40784314, 0.35686275, 0.28627451],\n",
              "         ...,\n",
              "         [0.16862745, 0.11372549, 0.09019608],\n",
              "         [0.15294118, 0.09803922, 0.07058824],\n",
              "         [0.1254902 , 0.07058824, 0.04705882]]]])"
            ]
          },
          "metadata": {},
          "execution_count": 67
        }
      ]
    },
    {
      "cell_type": "code",
      "source": [
        "from IPython.display import display, Image\n",
        "display(Image(filename='truck_img.jpg'))\n"
      ],
      "metadata": {
        "id": "7zL-EJdNaFiv"
      },
      "execution_count": null,
      "outputs": []
    },
    {
      "cell_type": "code",
      "source": [
        "plot_sample(x_train, y_train, 3)"
      ],
      "metadata": {
        "colab": {
          "base_uri": "https://localhost:8080/",
          "height": 173
        },
        "id": "G7zeJQtT-Ust",
        "outputId": "14745c1c-8edf-495c-ea6a-5cb7d8f093b2"
      },
      "execution_count": null,
      "outputs": [
        {
          "output_type": "display_data",
          "data": {
            "image/png": "[encoded data removed]",
            "text/plain": [
              "<Figure size 1080x144 with 1 Axes>"
            ]
          },
          "metadata": {
            "needs_background": "light"
          }
        }
      ]
    },
    {
      "cell_type": "code",
      "source": [
        "plot_sample(x_train, y_train, 1)"
      ],
      "metadata": {
        "colab": {
          "base_uri": "https://localhost:8080/",
          "height": 173
        },
        "id": "x5naT4rcDU3G",
        "outputId": "1291d6d6-55b2-4310-9125-bcd36cc74510"
      },
      "execution_count": null,
      "outputs": [
        {
          "output_type": "display_data",
          "data": {
            "image/png": "[encoded data removed]",
            "text/plain": [
              "<Figure size 1080x144 with 1 Axes>"
            ]
          },
          "metadata": {
            "needs_background": "light"
          }
        }
      ]
    },
    {
      "cell_type": "code",
      "source": [
        "plot_sample(x_train, y_train, 2)"
      ],
      "metadata": {
        "colab": {
          "base_uri": "https://localhost:8080/",
          "height": 173
        },
        "id": "o8TGehhWDYSE",
        "outputId": "fb2d1cc2-0478-446c-bf31-9313092da2a7"
      },
      "execution_count": null,
      "outputs": [
        {
          "output_type": "display_data",
          "data": {
            "image/png": "[encoded data removed]",
            "text/plain": [
              "<Figure size 1080x144 with 1 Axes>"
            ]
          },
          "metadata": {
            "needs_background": "light"
          }
        }
      ]
    },
    {
      "cell_type": "code",
      "source": [
        ""
      ],
      "metadata": {
        "id": "MHwj4AEDmlwm"
      },
      "execution_count": null,
      "outputs": []
    },
    {
      "cell_type": "code",
      "source": [
        "x_train[0]"
      ],
      "metadata": {
        "colab": {
          "base_uri": "https://localhost:8080/"
        },
        "id": "01_e80OGmiL1",
        "outputId": "d002c072-9f7d-4645-db6d-ccf1f014b142"
      },
      "execution_count": null,
      "outputs": [
        {
          "output_type": "execute_result",
          "data": {
            "text/plain": [
              "array([[[ 59,  62,  63],\n",
              "        [ 43,  46,  45],\n",
              "        [ 50,  48,  43],\n",
              "        ...,\n",
              "        [158, 132, 108],\n",
              "        [152, 125, 102],\n",
              "        [148, 124, 103]],\n",
              "\n",
              "       [[ 16,  20,  20],\n",
              "        [  0,   0,   0],\n",
              "        [ 18,   8,   0],\n",
              "        ...,\n",
              "        [123,  88,  55],\n",
              "        [119,  83,  50],\n",
              "        [122,  87,  57]],\n",
              "\n",
              "       [[ 25,  24,  21],\n",
              "        [ 16,   7,   0],\n",
              "        [ 49,  27,   8],\n",
              "        ...,\n",
              "        [118,  84,  50],\n",
              "        [120,  84,  50],\n",
              "        [109,  73,  42]],\n",
              "\n",
              "       ...,\n",
              "\n",
              "       [[208, 170,  96],\n",
              "        [201, 153,  34],\n",
              "        [198, 161,  26],\n",
              "        ...,\n",
              "        [160, 133,  70],\n",
              "        [ 56,  31,   7],\n",
              "        [ 53,  34,  20]],\n",
              "\n",
              "       [[180, 139,  96],\n",
              "        [173, 123,  42],\n",
              "        [186, 144,  30],\n",
              "        ...,\n",
              "        [184, 148,  94],\n",
              "        [ 97,  62,  34],\n",
              "        [ 83,  53,  34]],\n",
              "\n",
              "       [[177, 144, 116],\n",
              "        [168, 129,  94],\n",
              "        [179, 142,  87],\n",
              "        ...,\n",
              "        [216, 184, 140],\n",
              "        [151, 118,  84],\n",
              "        [123,  92,  72]]], dtype=uint8)"
            ]
          },
          "metadata": {},
          "execution_count": 20
        }
      ]
    },
    {
      "cell_type": "code",
      "source": [
        "#normalize data - divide each data 255\n",
        "x_train = x_train/255\n",
        "x_test = x_test/255"
      ],
      "metadata": {
        "id": "_wH1EtAMDbN9"
      },
      "execution_count": null,
      "outputs": []
    },
    {
      "cell_type": "code",
      "source": [
        "#build a simple artificial neural network\n",
        "ann = models.Sequential([\n",
        "                         layers.Flatten(input_shape = (32,32,3)),\n",
        "                         layers.Dense(3000, activation = 'relu'), #3000 deep layers\n",
        "                         layers.Dense(1000,activation = 'relu'), #1000 deep layers\n",
        "                         layers.Dense(10, activation = 'sigmoid') #10 layers\n",
        "])\n",
        "\n",
        "ann.compile(optimizer = 'SGD',\n",
        "            loss = 'sparse_categorical_crossentropy',\n",
        "            metrics = ['accuracy'])\n",
        "\n",
        "ann.fit(x_train,y_train, epochs = 5)"
      ],
      "metadata": {
        "colab": {
          "base_uri": "https://localhost:8080/"
        },
        "id": "ZE-2YRLjDm4N",
        "outputId": "abc35c33-fa1c-43ac-9389-509636c040fe"
      },
      "execution_count": null,
      "outputs": [
        {
          "output_type": "stream",
          "name": "stdout",
          "text": [
            "Epoch 1/5\n",
            "1563/1563 [==============================] - 98s 62ms/step - loss: 1.8145 - accuracy: 0.3535\n",
            "Epoch 2/5\n",
            "1563/1563 [==============================] - 96s 62ms/step - loss: 1.6244 - accuracy: 0.4280\n",
            "Epoch 3/5\n",
            "1563/1563 [==============================] - 96s 61ms/step - loss: 1.5418 - accuracy: 0.4566\n",
            "Epoch 4/5\n",
            "1563/1563 [==============================] - 95s 61ms/step - loss: 1.4824 - accuracy: 0.4780\n",
            "Epoch 5/5\n",
            "1563/1563 [==============================] - 95s 61ms/step - loss: 1.4309 - accuracy: 0.4966\n"
          ]
        },
        {
          "output_type": "execute_result",
          "data": {
            "text/plain": [
              "<keras.callbacks.History at 0x7faf74c4e6d0>"
            ]
          },
          "metadata": {},
          "execution_count": 22
        }
      ]
    },
    {
      "cell_type": "code",
      "source": [
        "ann.evaluate(x_test,y_test)"
      ],
      "metadata": {
        "colab": {
          "base_uri": "https://localhost:8080/"
        },
        "id": "zAvtZRfAJ-SY",
        "outputId": "4edf0700-85c1-4b5a-9b62-ab7221f87eb4"
      },
      "execution_count": null,
      "outputs": [
        {
          "output_type": "stream",
          "name": "stdout",
          "text": [
            "313/313 [==============================] - 7s 23ms/step - loss: 1.4857 - accuracy: 0.4663\n"
          ]
        },
        {
          "output_type": "execute_result",
          "data": {
            "text/plain": [
              "[1.4856970310211182, 0.46630001068115234]"
            ]
          },
          "metadata": {},
          "execution_count": 23
        }
      ]
    },
    {
      "cell_type": "code",
      "source": [
        "from sklearn.metrics import confusion_matrix, classification_report\n",
        "import numpy as np\n",
        "y_pred = ann.predict(x_test)\n",
        "y_pred_classes = [np.argmax(element) for element in y_pred]\n",
        "\n",
        "print(\"classification Report: \\n\", classification_report(y_test, y_pred_classes))"
      ],
      "metadata": {
        "colab": {
          "base_uri": "https://localhost:8080/"
        },
        "id": "noKZcTaeKKgi",
        "outputId": "e0d3ab53-3e8f-4d49-966d-93ff021f199d"
      },
      "execution_count": null,
      "outputs": [
        {
          "output_type": "stream",
          "name": "stdout",
          "text": [
            "classification Report: \n",
            "               precision    recall  f1-score   support\n",
            "\n",
            "           0       0.57      0.52      0.54      1000\n",
            "           1       0.69      0.49      0.58      1000\n",
            "           2       0.54      0.11      0.19      1000\n",
            "           3       0.35      0.34      0.35      1000\n",
            "           4       0.51      0.22      0.31      1000\n",
            "           5       0.45      0.31      0.37      1000\n",
            "           6       0.32      0.84      0.47      1000\n",
            "           7       0.45      0.64      0.53      1000\n",
            "           8       0.57      0.66      0.61      1000\n",
            "           9       0.58      0.54      0.56      1000\n",
            "\n",
            "    accuracy                           0.47     10000\n",
            "   macro avg       0.50      0.47      0.45     10000\n",
            "weighted avg       0.50      0.47      0.45     10000\n",
            "\n"
          ]
        }
      ]
    },
    {
      "cell_type": "code",
      "source": [
        "#cnn\n",
        "cnn = models.Sequential([\n",
        "                         layers.Conv2D(filters = 32, kernel_size= (3,3),activation = 'relu', input_shape = (32,32,3)),\n",
        "                         layers.MaxPooling2D((2,2)),\n",
        "                         \n",
        "                         layers.Conv2D(filters = 32, kernel_size= (3,3),activation = 'relu', input_shape = (32,32,3)),\n",
        "                         layers.MaxPooling2D((2,2)),\n",
        "                         \n",
        "                         layers.Flatten(),\n",
        "                         layers.Dense(64,activation = 'relu'), #1000 deep layers\n",
        "                         layers.Dense(10, activation = 'softmax') #10 layers\n",
        "])\n"
      ],
      "metadata": {
        "id": "j_cH5TkDLcuk"
      },
      "execution_count": null,
      "outputs": []
    },
    {
      "cell_type": "code",
      "source": [
        "cnn.compile(optimizer = 'adam',\n",
        "              loss = 'sparse_categorical_crossentropy',\n",
        "              metrics = ['accuracy'])"
      ],
      "metadata": {
        "id": "7ZIMSW5LNW3Y"
      },
      "execution_count": null,
      "outputs": []
    },
    {
      "cell_type": "code",
      "source": [
        ""
      ],
      "metadata": {
        "id": "7tk9c0U3RjJH"
      },
      "execution_count": null,
      "outputs": []
    },
    {
      "cell_type": "code",
      "source": [
        "cnn.fit(x_train,y_train,epochs = 10)"
      ],
      "metadata": {
        "colab": {
          "base_uri": "https://localhost:8080/"
        },
        "id": "m2SzeVCpNIJE",
        "outputId": "03bbeb84-0bbc-428e-d1ab-98c67603332a"
      },
      "execution_count": null,
      "outputs": [
        {
          "output_type": "stream",
          "name": "stdout",
          "text": [
            "Epoch 1/10\n",
            "1563/1563 [==============================] - 50s 32ms/step - loss: 1.4889 - accuracy: 0.4650\n",
            "Epoch 2/10\n",
            "1563/1563 [==============================] - 49s 32ms/step - loss: 1.1625 - accuracy: 0.5903\n",
            "Epoch 3/10\n",
            "1563/1563 [==============================] - 49s 32ms/step - loss: 1.0518 - accuracy: 0.6308\n",
            "Epoch 4/10\n",
            "1563/1563 [==============================] - 49s 32ms/step - loss: 0.9738 - accuracy: 0.6599\n",
            "Epoch 5/10\n",
            "1563/1563 [==============================] - 49s 32ms/step - loss: 0.9191 - accuracy: 0.6778\n",
            "Epoch 6/10\n",
            "1563/1563 [==============================] - 50s 32ms/step - loss: 0.8638 - accuracy: 0.6983\n",
            "Epoch 7/10\n",
            "1563/1563 [==============================] - 50s 32ms/step - loss: 0.8211 - accuracy: 0.7133\n",
            "Epoch 8/10\n",
            "1563/1563 [==============================] - 50s 32ms/step - loss: 0.7860 - accuracy: 0.7229\n",
            "Epoch 9/10\n",
            "1563/1563 [==============================] - 50s 32ms/step - loss: 0.7494 - accuracy: 0.7363\n",
            "Epoch 10/10\n",
            "1563/1563 [==============================] - 49s 32ms/step - loss: 0.7136 - accuracy: 0.7497\n"
          ]
        },
        {
          "output_type": "execute_result",
          "data": {
            "text/plain": [
              "<keras.callbacks.History at 0x7faf71af7850>"
            ]
          },
          "metadata": {},
          "execution_count": 27
        }
      ]
    },
    {
      "cell_type": "code",
      "source": [
        "cnn.evaluate(x_test,y_test)"
      ],
      "metadata": {
        "colab": {
          "base_uri": "https://localhost:8080/"
        },
        "id": "zAGxE2DdROk1",
        "outputId": "cf4f86c1-3e0f-4259-c05e-75fb72af592f"
      },
      "execution_count": null,
      "outputs": [
        {
          "output_type": "stream",
          "name": "stdout",
          "text": [
            "313/313 [==============================] - 3s 10ms/step - loss: 0.9237 - accuracy: 0.6887\n"
          ]
        },
        {
          "output_type": "execute_result",
          "data": {
            "text/plain": [
              "[0.9236647486686707, 0.6887000203132629]"
            ]
          },
          "metadata": {},
          "execution_count": 28
        }
      ]
    },
    {
      "cell_type": "code",
      "source": [
        "y_test = y_test.reshape(-1)\n",
        "plot_sample(x_test,y_test, 1)"
      ],
      "metadata": {
        "colab": {
          "base_uri": "https://localhost:8080/",
          "height": 173
        },
        "id": "EqzkrYPSSOk8",
        "outputId": "e5ae93f7-02c5-4d00-b5e5-84a989e60e0d"
      },
      "execution_count": null,
      "outputs": [
        {
          "output_type": "display_data",
          "data": {
            "image/png": "[encoded data removed]",
            "text/plain": [
              "<Figure size 1080x144 with 1 Axes>"
            ]
          },
          "metadata": {
            "needs_background": "light"
          }
        }
      ]
    },
    {
      "cell_type": "code",
      "source": [
        ""
      ],
      "metadata": {
        "id": "gYRqMxyzYqov"
      },
      "execution_count": null,
      "outputs": []
    },
    {
      "cell_type": "code",
      "source": [
        "y_pred"
      ],
      "metadata": {
        "colab": {
          "base_uri": "https://localhost:8080/"
        },
        "id": "GMICg41kuAiO",
        "outputId": "0df4c7b1-f585-4f06-c4d3-c31b97aae384"
      },
      "execution_count": null,
      "outputs": [
        {
          "output_type": "execute_result",
          "data": {
            "text/plain": [
              "array([[1.9077384e-03, 9.5553574e-04, 2.1267952e-03, ..., 3.2660828e-04,\n",
              "        1.0960869e-02, 1.1691536e-03],\n",
              "       [7.1450751e-03, 7.3343880e-02, 4.2355819e-07, ..., 2.9178421e-10,\n",
              "        9.1737586e-01, 2.1344938e-03],\n",
              "       [5.2592762e-02, 1.5289702e-01, 3.9127402e-04, ..., 3.4528198e-03,\n",
              "        7.6433986e-01, 2.2079511e-02],\n",
              "       ...,\n",
              "       [6.2173209e-04, 9.3473818e-06, 1.1162105e-02, ..., 4.4758886e-02,\n",
              "        2.6461084e-05, 3.3485117e-05],\n",
              "       [7.8927115e-02, 6.8843816e-03, 1.2830979e-02, ..., 1.3458291e-02,\n",
              "        1.0154627e-04, 1.3279259e-03],\n",
              "       [1.1969712e-06, 2.0258180e-06, 2.0480643e-04, ..., 9.9122882e-01,\n",
              "        3.8863854e-07, 2.6599739e-06]], dtype=float32)"
            ]
          },
          "metadata": {},
          "execution_count": 41
        }
      ]
    },
    {
      "cell_type": "code",
      "source": [
        "y_pred = cnn.predict(x_test)\n",
        "y_pred[:5]"
      ],
      "metadata": {
        "colab": {
          "base_uri": "https://localhost:8080/"
        },
        "id": "y3MSEvIOTQrT",
        "outputId": "09405c50-34c8-49cc-b72d-413b63f33b6a"
      },
      "execution_count": null,
      "outputs": [
        {
          "output_type": "execute_result",
          "data": {
            "text/plain": [
              "array([[1.9077384e-03, 9.5553574e-04, 2.1267952e-03, 8.4749043e-01,\n",
              "        3.1971693e-04, 1.1968428e-01, 1.5058874e-02, 3.2660828e-04,\n",
              "        1.0960869e-02, 1.1691536e-03],\n",
              "       [7.1450751e-03, 7.3343880e-02, 4.2355819e-07, 1.7376279e-07,\n",
              "        3.5024275e-09, 1.1274705e-08, 8.8102086e-09, 2.9178421e-10,\n",
              "        9.1737586e-01, 2.1344938e-03],\n",
              "       [5.2592762e-02, 1.5289702e-01, 3.9127402e-04, 3.5519502e-03,\n",
              "        3.9199094e-04, 2.4258466e-04, 6.0229446e-05, 3.4528198e-03,\n",
              "        7.6433986e-01, 2.2079511e-02],\n",
              "       [9.5570052e-01, 1.5689734e-02, 1.7453125e-04, 6.4454193e-04,\n",
              "        2.0076970e-03, 3.4951852e-05, 4.0012805e-05, 4.8947215e-05,\n",
              "        1.9778864e-02, 5.8801416e-03],\n",
              "       [5.2245173e-07, 2.4615842e-06, 5.3628446e-03, 8.8278838e-03,\n",
              "        4.6980277e-01, 3.8758488e-03, 5.1211268e-01, 1.2369782e-05,\n",
              "        1.2514644e-06, 1.3917943e-06]], dtype=float32)"
            ]
          },
          "metadata": {},
          "execution_count": 30
        }
      ]
    },
    {
      "cell_type": "code",
      "source": [
        "np.argmax([5,12,1,2])"
      ],
      "metadata": {
        "colab": {
          "base_uri": "https://localhost:8080/"
        },
        "id": "8AbwkS0VTl7m",
        "outputId": "60436b58-55dc-4c84-fe7d-c9325ad64f05"
      },
      "execution_count": null,
      "outputs": [
        {
          "output_type": "execute_result",
          "data": {
            "text/plain": [
              "1"
            ]
          },
          "metadata": {},
          "execution_count": 31
        }
      ]
    },
    {
      "cell_type": "code",
      "source": [
        "np.argmax([5,12,167,2])"
      ],
      "metadata": {
        "colab": {
          "base_uri": "https://localhost:8080/"
        },
        "id": "RV7OYUhjTt8w",
        "outputId": "7f922189-240c-40e0-dc40-c9933b74c26e"
      },
      "execution_count": null,
      "outputs": [
        {
          "output_type": "execute_result",
          "data": {
            "text/plain": [
              "2"
            ]
          },
          "metadata": {},
          "execution_count": 32
        }
      ]
    },
    {
      "cell_type": "code",
      "source": [
        "y_classes"
      ],
      "metadata": {
        "id": "58JQct7JukLY"
      },
      "execution_count": null,
      "outputs": []
    },
    {
      "cell_type": "code",
      "source": [
        "y_classes = [np.argmax(element) for element in y_pred]\n",
        "y_classes[:5]"
      ],
      "metadata": {
        "colab": {
          "base_uri": "https://localhost:8080/"
        },
        "id": "PvsmGACzT_po",
        "outputId": "29ed1a27-9d56-45e8-f106-2fd7ad39f380"
      },
      "execution_count": null,
      "outputs": [
        {
          "output_type": "execute_result",
          "data": {
            "text/plain": [
              "[3, 8, 8, 0, 6]"
            ]
          },
          "metadata": {},
          "execution_count": 33
        }
      ]
    },
    {
      "cell_type": "code",
      "source": [
        "y_test[:5]"
      ],
      "metadata": {
        "colab": {
          "base_uri": "https://localhost:8080/"
        },
        "id": "Xhatv1SYg0BH",
        "outputId": "a1fd136d-1634-4100-ed88-292b65fa9383"
      },
      "execution_count": null,
      "outputs": [
        {
          "output_type": "execute_result",
          "data": {
            "text/plain": [
              "array([3, 8, 8, 0, 6], dtype=uint8)"
            ]
          },
          "metadata": {},
          "execution_count": 34
        }
      ]
    },
    {
      "cell_type": "code",
      "source": [
        "plot_sample(x_test,y_test, 1)"
      ],
      "metadata": {
        "colab": {
          "base_uri": "https://localhost:8080/",
          "height": 173
        },
        "id": "z-0iNSUSg4rV",
        "outputId": "cded24b2-e1c2-4ca2-b1fe-6100315cbcbe"
      },
      "execution_count": null,
      "outputs": [
        {
          "output_type": "display_data",
          "data": {
            "image/png": "[encoded data removed]",
            "text/plain": [
              "<Figure size 1080x144 with 1 Axes>"
            ]
          },
          "metadata": {
            "needs_background": "light"
          }
        }
      ]
    },
    {
      "cell_type": "code",
      "source": [
        "classes"
      ],
      "metadata": {
        "colab": {
          "base_uri": "https://localhost:8080/"
        },
        "id": "6kJKa3nPg-UX",
        "outputId": "75731af9-0261-498d-d9f6-314c94f40225"
      },
      "execution_count": null,
      "outputs": [
        {
          "output_type": "execute_result",
          "data": {
            "text/plain": [
              "['airplane',\n",
              " 'automobile',\n",
              " 'bird',\n",
              " 'cat',\n",
              " 'deer',\n",
              " 'dog',\n",
              " 'frog',\n",
              " 'horse',\n",
              " 'ship',\n",
              " 'truck']"
            ]
          },
          "metadata": {},
          "execution_count": 36
        }
      ]
    },
    {
      "cell_type": "code",
      "source": [
        "classes[y_classes[1]]"
      ],
      "metadata": {
        "colab": {
          "base_uri": "https://localhost:8080/",
          "height": 36
        },
        "id": "MjzkYK3YhCr_",
        "outputId": "8c7e31ef-c05c-4f40-c1d5-976b487eab7c"
      },
      "execution_count": null,
      "outputs": [
        {
          "output_type": "execute_result",
          "data": {
            "application/vnd.google.colaboratory.intrinsic+json": {
              "type": "string"
            },
            "text/plain": [
              "'ship'"
            ]
          },
          "metadata": {},
          "execution_count": 75
        }
      ]
    },
    {
      "cell_type": "code",
      "source": [
        "classes[y_classes[4]]"
      ],
      "metadata": {
        "colab": {
          "base_uri": "https://localhost:8080/",
          "height": 36
        },
        "id": "gKZBrfZ7hIB3",
        "outputId": "0522c584-8cc2-480a-a5e5-2bacde5dccef"
      },
      "execution_count": null,
      "outputs": [
        {
          "output_type": "execute_result",
          "data": {
            "application/vnd.google.colaboratory.intrinsic+json": {
              "type": "string"
            },
            "text/plain": [
              "'frog'"
            ]
          },
          "metadata": {},
          "execution_count": 47
        }
      ]
    },
    {
      "cell_type": "code",
      "source": [
        "classes[y_classes[0]]"
      ],
      "metadata": {
        "colab": {
          "base_uri": "https://localhost:8080/",
          "height": 36
        },
        "id": "tB-3NrqfhQfv",
        "outputId": "c957a981-00a9-47c3-f857-952296e772ee"
      },
      "execution_count": null,
      "outputs": [
        {
          "output_type": "execute_result",
          "data": {
            "application/vnd.google.colaboratory.intrinsic+json": {
              "type": "string"
            },
            "text/plain": [
              "'cat'"
            ]
          },
          "metadata": {},
          "execution_count": 74
        }
      ]
    },
    {
      "cell_type": "code",
      "source": [
        "a = cnn.predict(pixels)"
      ],
      "metadata": {
        "id": "0hXwXDNTnICM"
      },
      "execution_count": null,
      "outputs": []
    },
    {
      "cell_type": "code",
      "source": [
        "a"
      ],
      "metadata": {
        "colab": {
          "base_uri": "https://localhost:8080/"
        },
        "id": "b0rCFSw7uz3E",
        "outputId": "558c1524-32e9-48f6-cdfa-e64eed01d4a1"
      },
      "execution_count": null,
      "outputs": [
        {
          "output_type": "execute_result",
          "data": {
            "text/plain": [
              "array([[4.6628034e-03, 2.9371944e-03, 2.3517638e-02, 3.4792495e-01,\n",
              "        2.1006001e-05, 3.8535273e-01, 8.4010142e-05, 1.2447965e-02,\n",
              "        2.6325598e-02, 1.9672607e-01]], dtype=float32)"
            ]
          },
          "metadata": {},
          "execution_count": 69
        }
      ]
    },
    {
      "cell_type": "code",
      "source": [
        "v_classes = np.argmax(a)"
      ],
      "metadata": {
        "id": "i4djbjpkzW2h"
      },
      "execution_count": null,
      "outputs": []
    },
    {
      "cell_type": "code",
      "source": [
        "v_classes"
      ],
      "metadata": {
        "colab": {
          "base_uri": "https://localhost:8080/"
        },
        "id": "AnQ205D6zbCY",
        "outputId": "163af63f-26e5-4659-cb3f-9e903343772f"
      },
      "execution_count": null,
      "outputs": [
        {
          "output_type": "execute_result",
          "data": {
            "text/plain": [
              "5"
            ]
          },
          "metadata": {},
          "execution_count": 71
        }
      ]
    },
    {
      "cell_type": "code",
      "source": [
        ""
      ],
      "metadata": {
        "id": "b5pU5SEK1tJJ"
      },
      "execution_count": null,
      "outputs": []
    },
    {
      "cell_type": "code",
      "source": [
        "h_classes = [np.argmax(element) for element in a]\n",
        "h_classes"
      ],
      "metadata": {
        "colab": {
          "base_uri": "https://localhost:8080/"
        },
        "id": "pNsQhv5avFp2",
        "outputId": "bdebb4c8-acbd-4587-8268-807ab75d27ec"
      },
      "execution_count": null,
      "outputs": [
        {
          "output_type": "execute_result",
          "data": {
            "text/plain": [
              "[1]"
            ]
          },
          "metadata": {},
          "execution_count": 51
        }
      ]
    }
  ]
}